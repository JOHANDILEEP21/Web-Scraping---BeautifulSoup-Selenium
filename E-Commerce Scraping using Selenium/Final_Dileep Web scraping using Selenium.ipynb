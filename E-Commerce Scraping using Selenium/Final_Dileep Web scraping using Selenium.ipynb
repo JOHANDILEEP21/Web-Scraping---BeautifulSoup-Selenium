{
 "cells": [
  {
   "cell_type": "code",
   "execution_count": 1,
   "id": "80a48865",
   "metadata": {},
   "outputs": [],
   "source": [
    "from selenium import webdriver\n",
    "from selenium.webdriver.chrome.service import Service\n",
    "from webdriver_manager.chrome import ChromeDriverManager\n",
    "from selenium.webdriver.common.by import By\n",
    "from selenium.webdriver.common.keys import Keys\n",
    "from selenium.webdriver.chrome.options import Options\n",
    "\n",
    "from selenium.webdriver.support.ui import WebDriverWait\n",
    "from selenium.webdriver.support import expected_conditions as EC\n",
    "\n",
    "import time\n",
    "from datetime import datetime\n",
    "\n",
    "import pandas as pd\n",
    "import numpy as np\n",
    "import matplotlib.pyplot as plt\n",
    "import seaborn as sns\n",
    "\n",
    "import json"
   ]
  },
  {
   "cell_type": "code",
   "execution_count": 2,
   "id": "10241c33",
   "metadata": {},
   "outputs": [],
   "source": [
    "df = pd.read_excel('input.xlsx')"
   ]
  },
  {
   "cell_type": "code",
   "execution_count": 3,
   "id": "d4801b20",
   "metadata": {},
   "outputs": [],
   "source": [
    "df.drop_duplicates(inplace=True)"
   ]
  },
  {
   "cell_type": "code",
   "execution_count": 4,
   "id": "5e3f978b",
   "metadata": {},
   "outputs": [
    {
     "data": {
      "text/plain": [
       "(556, 1)"
      ]
     },
     "execution_count": 4,
     "metadata": {},
     "output_type": "execute_result"
    }
   ],
   "source": [
    "df.shape"
   ]
  },
  {
   "cell_type": "code",
   "execution_count": 5,
   "id": "ae04ef20",
   "metadata": {},
   "outputs": [
    {
     "data": {
      "text/plain": [
       "Index(['Link'], dtype='object')"
      ]
     },
     "execution_count": 5,
     "metadata": {},
     "output_type": "execute_result"
    }
   ],
   "source": [
    "df.columns"
   ]
  },
  {
   "cell_type": "code",
   "execution_count": 6,
   "id": "b8bd06fd",
   "metadata": {},
   "outputs": [],
   "source": [
    "url_lists = df['Link'].values"
   ]
  },
  {
   "cell_type": "code",
   "execution_count": 7,
   "id": "79d0348d",
   "metadata": {},
   "outputs": [
    {
     "data": {
      "text/plain": [
       "array(['https://www.mister-sandman.de/products/topper-und-matratzenschoner-soft-topper-fur-den-matratzenschutz-und-liegekomfort?variant=41268071760004',\n",
       "       'https://www.mister-sandman.de/products/topper-und-matratzenschoner-soft-topper-fur-den-matratzenschutz-und-liegekomfort?variant=40443745960068',\n",
       "       'https://www.mister-sandman.de/products/topper-und-matratzenschoner-soft-topper-fur-den-matratzenschutz-und-liegekomfort?variant=39459118940292',\n",
       "       'https://www.mister-sandman.de/products/topper-und-matratzenschoner-soft-topper-fur-den-matratzenschutz-und-liegekomfort?variant=40443748352132',\n",
       "       'https://www.mister-sandman.de/products/topper-und-matratzenschoner-soft-topper-fur-den-matratzenschutz-und-liegekomfort?variant=39459118973060'],\n",
       "      dtype=object)"
      ]
     },
     "execution_count": 7,
     "metadata": {},
     "output_type": "execute_result"
    }
   ],
   "source": [
    "url_lists[-6:-1]"
   ]
  },
  {
   "cell_type": "code",
   "execution_count": 8,
   "id": "243087a1",
   "metadata": {},
   "outputs": [
    {
     "name": "stdout",
     "output_type": "stream",
     "text": [
      "0- https://www.mister-sandman.de/products/babymatratze?variant=23030724231216\n",
      "1- https://www.mister-sandman.de/products/steppbettdecke-ganzjahr?variant=30732042895492\n",
      "2- https://www.mister-sandman.de/products/steppbettdecke-ganzjahr?variant=30732042961028\n",
      "3- https://www.mister-sandman.de/products/steppbettdecke-ganzjahr?variant=30732042928260\n",
      "4- https://www.mister-sandman.de/products/steppbettdecke-ganzjahr?variant=30732042993796\n",
      "5- https://www.mister-sandman.de/products/steppbettdecke-ganzjahr?variant=39980487803012\n",
      "6- https://www.mister-sandman.de/products/steppbettdecke-ganzjahr?variant=39980489244804\n",
      "7- https://www.mister-sandman.de/products/steppbettdecke-ganzjahr?variant=39980492161156\n",
      "8- https://www.mister-sandman.de/products/steppbette-mikrofaser-sommer-135x200\n",
      "9- https://www.mister-sandman.de/products/steppbett-mikrofaser-sommer-155x220\n"
     ]
    }
   ],
   "source": [
    "for id, link in enumerate(url_lists):\n",
    "    if id == 10:\n",
    "        break\n",
    "    else:\n",
    "        print(f'{id}- {link}')"
   ]
  },
  {
   "cell_type": "code",
   "execution_count": null,
   "id": "78fb2b33",
   "metadata": {},
   "outputs": [],
   "source": []
  },
  {
   "cell_type": "code",
   "execution_count": 9,
   "id": "3ea1fe6c",
   "metadata": {},
   "outputs": [],
   "source": [
    "output_data = {'Link': [], 'Prod_name':[], 'Price':[], 'Size':[],\n",
    "               'Variation_id':[], 'Barcode':[], 'Img1_url':[], 'Img2_url':[]}"
   ]
  },
  {
   "cell_type": "code",
   "execution_count": 10,
   "id": "ed4cf7fa",
   "metadata": {},
   "outputs": [
    {
     "data": {
      "text/plain": [
       "[]"
      ]
     },
     "execution_count": 10,
     "metadata": {},
     "output_type": "execute_result"
    }
   ],
   "source": [
    "output_data['Link']"
   ]
  },
  {
   "cell_type": "code",
   "execution_count": 11,
   "id": "a663bbf7",
   "metadata": {
    "scrolled": true
   },
   "outputs": [
    {
     "name": "stdout",
     "output_type": "stream",
     "text": [
      "0\n"
     ]
    },
    {
     "name": "stderr",
     "output_type": "stream",
     "text": [
      "The chromedriver version (127.0.6533.72) detected in PATH at C:\\Users\\johan\\OneDrive\\Desktop\\DS Python\\Web Scraping\\Selenium\\Bambus\\chromedriver.exe might not be compatible with the detected chrome version (127.0.6533.89); currently, chromedriver 127.0.6533.88 is recommended for chrome 127.*, so it is advised to delete the driver in PATH and retry\n"
     ]
    },
    {
     "name": "stdout",
     "output_type": "stream",
     "text": [
      "Size: 60x120, Variation_id: 23030724231216, Barcode: 4063585872390\n",
      "1\n"
     ]
    },
    {
     "name": "stderr",
     "output_type": "stream",
     "text": [
      "The chromedriver version (127.0.6533.72) detected in PATH at C:\\Users\\johan\\OneDrive\\Desktop\\DS Python\\Web Scraping\\Selenium\\Bambus\\chromedriver.exe might not be compatible with the detected chrome version (127.0.6533.89); currently, chromedriver 127.0.6533.88 is recommended for chrome 127.*, so it is advised to delete the driver in PATH and retry\n"
     ]
    },
    {
     "name": "stdout",
     "output_type": "stream",
     "text": [
      "Size: 135x200, Variation_id: 30732042895492, Barcode: 4063585977477\n",
      "2\n"
     ]
    },
    {
     "name": "stderr",
     "output_type": "stream",
     "text": [
      "The chromedriver version (127.0.6533.72) detected in PATH at C:\\Users\\johan\\OneDrive\\Desktop\\DS Python\\Web Scraping\\Selenium\\Bambus\\chromedriver.exe might not be compatible with the detected chrome version (127.0.6533.89); currently, chromedriver 127.0.6533.88 is recommended for chrome 127.*, so it is advised to delete the driver in PATH and retry\n"
     ]
    },
    {
     "name": "stdout",
     "output_type": "stream",
     "text": [
      "Size: 155x220, Variation_id: 30732042961028, Barcode: 4063585977453\n",
      "3\n"
     ]
    },
    {
     "name": "stderr",
     "output_type": "stream",
     "text": [
      "The chromedriver version (127.0.6533.72) detected in PATH at C:\\Users\\johan\\OneDrive\\Desktop\\DS Python\\Web Scraping\\Selenium\\Bambus\\chromedriver.exe might not be compatible with the detected chrome version (127.0.6533.89); currently, chromedriver 127.0.6533.88 is recommended for chrome 127.*, so it is advised to delete the driver in PATH and retry\n"
     ]
    },
    {
     "name": "stdout",
     "output_type": "stream",
     "text": [
      "Size: 200x200, Variation_id: 30732042928260, Barcode: 4063585977460\n",
      "4\n"
     ]
    },
    {
     "name": "stderr",
     "output_type": "stream",
     "text": [
      "The chromedriver version (127.0.6533.72) detected in PATH at C:\\Users\\johan\\OneDrive\\Desktop\\DS Python\\Web Scraping\\Selenium\\Bambus\\chromedriver.exe might not be compatible with the detected chrome version (127.0.6533.89); currently, chromedriver 127.0.6533.88 is recommended for chrome 127.*, so it is advised to delete the driver in PATH and retry\n"
     ]
    },
    {
     "name": "stdout",
     "output_type": "stream",
     "text": [
      "Size: 200x220, Variation_id: 30732042993796, Barcode: 4063585977446\n",
      "5\n"
     ]
    },
    {
     "name": "stderr",
     "output_type": "stream",
     "text": [
      "The chromedriver version (127.0.6533.72) detected in PATH at C:\\Users\\johan\\OneDrive\\Desktop\\DS Python\\Web Scraping\\Selenium\\Bambus\\chromedriver.exe might not be compatible with the detected chrome version (127.0.6533.89); currently, chromedriver 127.0.6533.88 is recommended for chrome 127.*, so it is advised to delete the driver in PATH and retry\n"
     ]
    },
    {
     "name": "stdout",
     "output_type": "stream",
     "text": [
      "Size: 220x240, Variation_id: 39980487803012, Barcode: 4063585934821\n",
      "6\n"
     ]
    },
    {
     "name": "stderr",
     "output_type": "stream",
     "text": [
      "The chromedriver version (127.0.6533.72) detected in PATH at C:\\Users\\johan\\OneDrive\\Desktop\\DS Python\\Web Scraping\\Selenium\\Bambus\\chromedriver.exe might not be compatible with the detected chrome version (127.0.6533.89); currently, chromedriver 127.0.6533.88 is recommended for chrome 127.*, so it is advised to delete the driver in PATH and retry\n"
     ]
    },
    {
     "name": "stdout",
     "output_type": "stream",
     "text": [
      "Size: 140x200, Variation_id: 39980489244804, Barcode: 4063585934814\n",
      "7\n"
     ]
    },
    {
     "name": "stderr",
     "output_type": "stream",
     "text": [
      "The chromedriver version (127.0.6533.72) detected in PATH at C:\\Users\\johan\\OneDrive\\Desktop\\DS Python\\Web Scraping\\Selenium\\Bambus\\chromedriver.exe might not be compatible with the detected chrome version (127.0.6533.89); currently, chromedriver 127.0.6533.88 is recommended for chrome 127.*, so it is advised to delete the driver in PATH and retry\n"
     ]
    },
    {
     "name": "stdout",
     "output_type": "stream",
     "text": [
      "Size: 160x220, Variation_id: 39980492161156, Barcode: 4063585934807\n",
      "8\n"
     ]
    },
    {
     "name": "stderr",
     "output_type": "stream",
     "text": [
      "The chromedriver version (127.0.6533.72) detected in PATH at C:\\Users\\johan\\OneDrive\\Desktop\\DS Python\\Web Scraping\\Selenium\\Bambus\\chromedriver.exe might not be compatible with the detected chrome version (127.0.6533.89); currently, chromedriver 127.0.6533.88 is recommended for chrome 127.*, so it is advised to delete the driver in PATH and retry\n"
     ]
    },
    {
     "name": "stdout",
     "output_type": "stream",
     "text": [
      "Size: 135x200, Variation_id: 31271682277508, Barcode: 4063585966945\n",
      "9\n"
     ]
    },
    {
     "name": "stderr",
     "output_type": "stream",
     "text": [
      "The chromedriver version (127.0.6533.72) detected in PATH at C:\\Users\\johan\\OneDrive\\Desktop\\DS Python\\Web Scraping\\Selenium\\Bambus\\chromedriver.exe might not be compatible with the detected chrome version (127.0.6533.89); currently, chromedriver 127.0.6533.88 is recommended for chrome 127.*, so it is advised to delete the driver in PATH and retry\n"
     ]
    },
    {
     "name": "stdout",
     "output_type": "stream",
     "text": [
      "Size: 155x220, Variation_id: 31271688536196, Barcode: 4063585886083\n"
     ]
    }
   ],
   "source": [
    "start = datetime.now()\n",
    "\n",
    "for link in range(10) : # enumerate(url_lists):\n",
    "    if link == 10:\n",
    "        break\n",
    "    else:\n",
    "        print(f'{link}')\n",
    "        # # Initialize the WebDriver (Make sure you have the correct path to your WebDriver executable)\n",
    "        # Set up Chrome options\n",
    "        options = Options()\n",
    "        options.add_argument('--headless')  # Run in headless mode\n",
    "\n",
    "        driver = webdriver.Chrome(options=options)\n",
    "        \n",
    "        url = url_lists[link]\n",
    "        \n",
    "        # Navigate to the Google website\n",
    "        driver.get(url)\n",
    "        \n",
    "        prod_name = driver.find_element(By.CLASS_NAME, 'product-title')\n",
    "        \n",
    "        prod_price = driver.find_element(By.CLASS_NAME, 'price__current  ')\n",
    "        \n",
    "        prices = prod_price.text.split('\\n')[-1].replace('€', '').replace(',', '').strip()\n",
    "        \n",
    "        try:\n",
    "            sizes = driver.find_element(By.ID, 'template--20429025378649__main-data-variant-option-0-template--20429025378649__main')\n",
    "            chosen_value = sizes.get_attribute('data-variant-option-chosen-value')\n",
    "            size = chosen_value\n",
    "            \n",
    "        except Exception as e:\n",
    "            \n",
    "            #print('Error in Size block : ', e)\n",
    "            size = prod_name.text.split()[-1]\n",
    "            \n",
    "        vpb_list = driver.find_element(By.XPATH, '//script[@type=\"application/json\" and @data-section-type=\"static-product\" and @data-section-id=\"template--20429025378649__main\"]')\n",
    "\n",
    "        # Extract the content of the <script> tag\n",
    "        script_content = vpb_list.get_attribute('innerHTML')\n",
    "        # Parse the JSON content\n",
    "        json_data = json.loads(script_content)\n",
    "        \n",
    "        data = json_data['product']\n",
    "        \n",
    "        for variant in json_data['product']['variants']:\n",
    "            #print(variant['price'])\n",
    "\n",
    "            if (int(prices) == variant['price']):\n",
    "                #print(sizes(soup))\n",
    "                #print(variant['title'])\n",
    "                #for siz in size:\n",
    "                if size in variant['title']:\n",
    "                    p_size = size\n",
    "                    variation = variant['id']\n",
    "                    barcode = variant['barcode']\n",
    "                    break  # Stop iteration once a match is found\n",
    "                elif size in json_data['product']['title']:\n",
    "                    p_size = size\n",
    "                    variation = variant['id']\n",
    "                    barcode = variant['barcode']\n",
    "                    break\n",
    "                \n",
    "        print(f'Size: {p_size}, Variation_id: {variation}, Barcode: {barcode}')\n",
    "        \n",
    "        imgages = json_data['product']['images']\n",
    "        \n",
    "        img1 = 'https:'+imgages[0]\n",
    "        img2 = 'https:'+imgages[1]\n",
    "        \n",
    "        output_data['Link'].append(url)\n",
    "        output_data['Prod_name'].append(prod_name.text)\n",
    "        output_data['Price'].append(int(prices)/100)\n",
    "        output_data['Size'].append(p_size)\n",
    "        output_data['Variation_id'].append(variation)\n",
    "        output_data['Barcode'].append(barcode)\n",
    "        output_data['Img1_url'].append(img1)\n",
    "        output_data['Img2_url'].append(img2)\n",
    "        \n",
    "        time.sleep(2)\n",
    "        \n",
    "        driver.close()\n",
    "    \n",
    "end = datetime.now()"
   ]
  },
  {
   "cell_type": "code",
   "execution_count": 12,
   "id": "54257efc",
   "metadata": {},
   "outputs": [
    {
     "name": "stdout",
     "output_type": "stream",
     "text": [
      "0:02:16.692667\n"
     ]
    }
   ],
   "source": [
    "duration = end - start\n",
    "\n",
    "print(duration)"
   ]
  },
  {
   "cell_type": "markdown",
   "id": "c21507ac",
   "metadata": {},
   "source": [
    "## For 10 links it takes around 2:16 minutes. Comparing to Beautifulsoup it's slower. It has many features but those things are not in beautifulsoup."
   ]
  },
  {
   "cell_type": "markdown",
   "id": "2439be2a",
   "metadata": {},
   "source": [
    "## In BeautifulSoup, for 50 links it takes 2:30 minutest to crawl the web."
   ]
  },
  {
   "cell_type": "code",
   "execution_count": null,
   "id": "653db467",
   "metadata": {},
   "outputs": [],
   "source": []
  },
  {
   "cell_type": "code",
   "execution_count": 13,
   "id": "b1032934",
   "metadata": {
    "scrolled": true
   },
   "outputs": [],
   "source": [
    "df = pd.DataFrame(output_data)"
   ]
  },
  {
   "cell_type": "code",
   "execution_count": 14,
   "id": "8ad83ca2",
   "metadata": {
    "scrolled": true
   },
   "outputs": [
    {
     "data": {
      "text/html": [
       "<div>\n",
       "<style scoped>\n",
       "    .dataframe tbody tr th:only-of-type {\n",
       "        vertical-align: middle;\n",
       "    }\n",
       "\n",
       "    .dataframe tbody tr th {\n",
       "        vertical-align: top;\n",
       "    }\n",
       "\n",
       "    .dataframe thead th {\n",
       "        text-align: right;\n",
       "    }\n",
       "</style>\n",
       "<table border=\"1\" class=\"dataframe\">\n",
       "  <thead>\n",
       "    <tr style=\"text-align: right;\">\n",
       "      <th></th>\n",
       "      <th>Link</th>\n",
       "      <th>Prod_name</th>\n",
       "      <th>Price</th>\n",
       "      <th>Size</th>\n",
       "      <th>Variation_id</th>\n",
       "      <th>Barcode</th>\n",
       "      <th>Img1_url</th>\n",
       "      <th>Img2_url</th>\n",
       "    </tr>\n",
       "  </thead>\n",
       "  <tbody>\n",
       "    <tr>\n",
       "      <th>0</th>\n",
       "      <td>https://www.mister-sandman.de/products/babymat...</td>\n",
       "      <td>Babymatratze</td>\n",
       "      <td>29.9</td>\n",
       "      <td>60x120</td>\n",
       "      <td>23030724231216</td>\n",
       "      <td>4063585872390</td>\n",
       "      <td>https://mister-sandman.de/cdn/shop/products/ba...</td>\n",
       "      <td>https://mister-sandman.de/cdn/shop/products/Ed...</td>\n",
       "    </tr>\n",
       "    <tr>\n",
       "      <th>1</th>\n",
       "      <td>https://www.mister-sandman.de/products/steppbe...</td>\n",
       "      <td>Ganzjahresbettdecke</td>\n",
       "      <td>18.9</td>\n",
       "      <td>135x200</td>\n",
       "      <td>30732042895492</td>\n",
       "      <td>4063585977477</td>\n",
       "      <td>https://mister-sandman.de/cdn/shop/products/St...</td>\n",
       "      <td>https://mister-sandman.de/cdn/shop/products/de...</td>\n",
       "    </tr>\n",
       "    <tr>\n",
       "      <th>2</th>\n",
       "      <td>https://www.mister-sandman.de/products/steppbe...</td>\n",
       "      <td>Ganzjahresbettdecke</td>\n",
       "      <td>19.9</td>\n",
       "      <td>155x220</td>\n",
       "      <td>30732042961028</td>\n",
       "      <td>4063585977453</td>\n",
       "      <td>https://mister-sandman.de/cdn/shop/products/St...</td>\n",
       "      <td>https://mister-sandman.de/cdn/shop/products/de...</td>\n",
       "    </tr>\n",
       "    <tr>\n",
       "      <th>3</th>\n",
       "      <td>https://www.mister-sandman.de/products/steppbe...</td>\n",
       "      <td>Ganzjahresbettdecke</td>\n",
       "      <td>21.9</td>\n",
       "      <td>200x200</td>\n",
       "      <td>30732042928260</td>\n",
       "      <td>4063585977460</td>\n",
       "      <td>https://mister-sandman.de/cdn/shop/products/St...</td>\n",
       "      <td>https://mister-sandman.de/cdn/shop/products/de...</td>\n",
       "    </tr>\n",
       "    <tr>\n",
       "      <th>4</th>\n",
       "      <td>https://www.mister-sandman.de/products/steppbe...</td>\n",
       "      <td>Ganzjahresbettdecke</td>\n",
       "      <td>22.9</td>\n",
       "      <td>200x220</td>\n",
       "      <td>30732042993796</td>\n",
       "      <td>4063585977446</td>\n",
       "      <td>https://mister-sandman.de/cdn/shop/products/St...</td>\n",
       "      <td>https://mister-sandman.de/cdn/shop/products/de...</td>\n",
       "    </tr>\n",
       "    <tr>\n",
       "      <th>5</th>\n",
       "      <td>https://www.mister-sandman.de/products/steppbe...</td>\n",
       "      <td>Ganzjahresbettdecke</td>\n",
       "      <td>23.9</td>\n",
       "      <td>220x240</td>\n",
       "      <td>39980487803012</td>\n",
       "      <td>4063585934821</td>\n",
       "      <td>https://mister-sandman.de/cdn/shop/products/St...</td>\n",
       "      <td>https://mister-sandman.de/cdn/shop/products/de...</td>\n",
       "    </tr>\n",
       "    <tr>\n",
       "      <th>6</th>\n",
       "      <td>https://www.mister-sandman.de/products/steppbe...</td>\n",
       "      <td>Ganzjahresbettdecke</td>\n",
       "      <td>18.9</td>\n",
       "      <td>140x200</td>\n",
       "      <td>39980489244804</td>\n",
       "      <td>4063585934814</td>\n",
       "      <td>https://mister-sandman.de/cdn/shop/products/St...</td>\n",
       "      <td>https://mister-sandman.de/cdn/shop/products/de...</td>\n",
       "    </tr>\n",
       "    <tr>\n",
       "      <th>7</th>\n",
       "      <td>https://www.mister-sandman.de/products/steppbe...</td>\n",
       "      <td>Ganzjahresbettdecke</td>\n",
       "      <td>19.9</td>\n",
       "      <td>160x220</td>\n",
       "      <td>39980492161156</td>\n",
       "      <td>4063585934807</td>\n",
       "      <td>https://mister-sandman.de/cdn/shop/products/St...</td>\n",
       "      <td>https://mister-sandman.de/cdn/shop/products/de...</td>\n",
       "    </tr>\n",
       "    <tr>\n",
       "      <th>8</th>\n",
       "      <td>https://www.mister-sandman.de/products/steppbe...</td>\n",
       "      <td>Steppbett Mikrofaser Sommer 135x200</td>\n",
       "      <td>17.9</td>\n",
       "      <td>135x200</td>\n",
       "      <td>31271682277508</td>\n",
       "      <td>4063585966945</td>\n",
       "      <td>https://mister-sandman.de/cdn/shop/products/In...</td>\n",
       "      <td>https://mister-sandman.de/cdn/shop/products/02...</td>\n",
       "    </tr>\n",
       "    <tr>\n",
       "      <th>9</th>\n",
       "      <td>https://www.mister-sandman.de/products/steppbe...</td>\n",
       "      <td>Steppbett Mikrofaser Sommer 155x220</td>\n",
       "      <td>18.9</td>\n",
       "      <td>155x220</td>\n",
       "      <td>31271688536196</td>\n",
       "      <td>4063585886083</td>\n",
       "      <td>https://mister-sandman.de/cdn/shop/products/01...</td>\n",
       "      <td>https://mister-sandman.de/cdn/shop/products/02...</td>\n",
       "    </tr>\n",
       "  </tbody>\n",
       "</table>\n",
       "</div>"
      ],
      "text/plain": [
       "                                                Link  \\\n",
       "0  https://www.mister-sandman.de/products/babymat...   \n",
       "1  https://www.mister-sandman.de/products/steppbe...   \n",
       "2  https://www.mister-sandman.de/products/steppbe...   \n",
       "3  https://www.mister-sandman.de/products/steppbe...   \n",
       "4  https://www.mister-sandman.de/products/steppbe...   \n",
       "5  https://www.mister-sandman.de/products/steppbe...   \n",
       "6  https://www.mister-sandman.de/products/steppbe...   \n",
       "7  https://www.mister-sandman.de/products/steppbe...   \n",
       "8  https://www.mister-sandman.de/products/steppbe...   \n",
       "9  https://www.mister-sandman.de/products/steppbe...   \n",
       "\n",
       "                             Prod_name  Price     Size    Variation_id  \\\n",
       "0                         Babymatratze   29.9   60x120  23030724231216   \n",
       "1                  Ganzjahresbettdecke   18.9  135x200  30732042895492   \n",
       "2                  Ganzjahresbettdecke   19.9  155x220  30732042961028   \n",
       "3                  Ganzjahresbettdecke   21.9  200x200  30732042928260   \n",
       "4                  Ganzjahresbettdecke   22.9  200x220  30732042993796   \n",
       "5                  Ganzjahresbettdecke   23.9  220x240  39980487803012   \n",
       "6                  Ganzjahresbettdecke   18.9  140x200  39980489244804   \n",
       "7                  Ganzjahresbettdecke   19.9  160x220  39980492161156   \n",
       "8  Steppbett Mikrofaser Sommer 135x200   17.9  135x200  31271682277508   \n",
       "9  Steppbett Mikrofaser Sommer 155x220   18.9  155x220  31271688536196   \n",
       "\n",
       "         Barcode                                           Img1_url  \\\n",
       "0  4063585872390  https://mister-sandman.de/cdn/shop/products/ba...   \n",
       "1  4063585977477  https://mister-sandman.de/cdn/shop/products/St...   \n",
       "2  4063585977453  https://mister-sandman.de/cdn/shop/products/St...   \n",
       "3  4063585977460  https://mister-sandman.de/cdn/shop/products/St...   \n",
       "4  4063585977446  https://mister-sandman.de/cdn/shop/products/St...   \n",
       "5  4063585934821  https://mister-sandman.de/cdn/shop/products/St...   \n",
       "6  4063585934814  https://mister-sandman.de/cdn/shop/products/St...   \n",
       "7  4063585934807  https://mister-sandman.de/cdn/shop/products/St...   \n",
       "8  4063585966945  https://mister-sandman.de/cdn/shop/products/In...   \n",
       "9  4063585886083  https://mister-sandman.de/cdn/shop/products/01...   \n",
       "\n",
       "                                            Img2_url  \n",
       "0  https://mister-sandman.de/cdn/shop/products/Ed...  \n",
       "1  https://mister-sandman.de/cdn/shop/products/de...  \n",
       "2  https://mister-sandman.de/cdn/shop/products/de...  \n",
       "3  https://mister-sandman.de/cdn/shop/products/de...  \n",
       "4  https://mister-sandman.de/cdn/shop/products/de...  \n",
       "5  https://mister-sandman.de/cdn/shop/products/de...  \n",
       "6  https://mister-sandman.de/cdn/shop/products/de...  \n",
       "7  https://mister-sandman.de/cdn/shop/products/de...  \n",
       "8  https://mister-sandman.de/cdn/shop/products/02...  \n",
       "9  https://mister-sandman.de/cdn/shop/products/02...  "
      ]
     },
     "execution_count": 14,
     "metadata": {},
     "output_type": "execute_result"
    }
   ],
   "source": [
    "df"
   ]
  },
  {
   "cell_type": "code",
   "execution_count": 21,
   "id": "d48bf150",
   "metadata": {},
   "outputs": [],
   "source": [
    "df.to_excel('Sample_ouput.xlsx', index=False)"
   ]
  },
  {
   "cell_type": "code",
   "execution_count": 23,
   "id": "7d801b07",
   "metadata": {
    "scrolled": true
   },
   "outputs": [
    {
     "data": {
      "text/html": [
       "<div>\n",
       "<style scoped>\n",
       "    .dataframe tbody tr th:only-of-type {\n",
       "        vertical-align: middle;\n",
       "    }\n",
       "\n",
       "    .dataframe tbody tr th {\n",
       "        vertical-align: top;\n",
       "    }\n",
       "\n",
       "    .dataframe thead th {\n",
       "        text-align: right;\n",
       "    }\n",
       "</style>\n",
       "<table border=\"1\" class=\"dataframe\">\n",
       "  <thead>\n",
       "    <tr style=\"text-align: right;\">\n",
       "      <th></th>\n",
       "      <th>Link</th>\n",
       "      <th>Prod_name</th>\n",
       "      <th>Price</th>\n",
       "      <th>Size</th>\n",
       "      <th>Variation_id</th>\n",
       "      <th>Barcode</th>\n",
       "      <th>Img1_url</th>\n",
       "      <th>Img2_url</th>\n",
       "    </tr>\n",
       "  </thead>\n",
       "  <tbody>\n",
       "    <tr>\n",
       "      <th>0</th>\n",
       "      <td>https://www.mister-sandman.de/products/babymat...</td>\n",
       "      <td>Babymatratze</td>\n",
       "      <td>29.9</td>\n",
       "      <td>60x120</td>\n",
       "      <td>23030724231216</td>\n",
       "      <td>4063585872390</td>\n",
       "      <td>https://mister-sandman.de/cdn/shop/products/ba...</td>\n",
       "      <td>https://mister-sandman.de/cdn/shop/products/Ed...</td>\n",
       "    </tr>\n",
       "    <tr>\n",
       "      <th>1</th>\n",
       "      <td>https://www.mister-sandman.de/products/steppbe...</td>\n",
       "      <td>Ganzjahresbettdecke</td>\n",
       "      <td>18.9</td>\n",
       "      <td>135x200</td>\n",
       "      <td>30732042895492</td>\n",
       "      <td>4063585977477</td>\n",
       "      <td>https://mister-sandman.de/cdn/shop/products/St...</td>\n",
       "      <td>https://mister-sandman.de/cdn/shop/products/de...</td>\n",
       "    </tr>\n",
       "    <tr>\n",
       "      <th>2</th>\n",
       "      <td>https://www.mister-sandman.de/products/steppbe...</td>\n",
       "      <td>Ganzjahresbettdecke</td>\n",
       "      <td>19.9</td>\n",
       "      <td>155x220</td>\n",
       "      <td>30732042961028</td>\n",
       "      <td>4063585977453</td>\n",
       "      <td>https://mister-sandman.de/cdn/shop/products/St...</td>\n",
       "      <td>https://mister-sandman.de/cdn/shop/products/de...</td>\n",
       "    </tr>\n",
       "    <tr>\n",
       "      <th>3</th>\n",
       "      <td>https://www.mister-sandman.de/products/steppbe...</td>\n",
       "      <td>Ganzjahresbettdecke</td>\n",
       "      <td>21.9</td>\n",
       "      <td>200x200</td>\n",
       "      <td>30732042928260</td>\n",
       "      <td>4063585977460</td>\n",
       "      <td>https://mister-sandman.de/cdn/shop/products/St...</td>\n",
       "      <td>https://mister-sandman.de/cdn/shop/products/de...</td>\n",
       "    </tr>\n",
       "    <tr>\n",
       "      <th>4</th>\n",
       "      <td>https://www.mister-sandman.de/products/steppbe...</td>\n",
       "      <td>Ganzjahresbettdecke</td>\n",
       "      <td>22.9</td>\n",
       "      <td>200x220</td>\n",
       "      <td>30732042993796</td>\n",
       "      <td>4063585977446</td>\n",
       "      <td>https://mister-sandman.de/cdn/shop/products/St...</td>\n",
       "      <td>https://mister-sandman.de/cdn/shop/products/de...</td>\n",
       "    </tr>\n",
       "    <tr>\n",
       "      <th>5</th>\n",
       "      <td>https://www.mister-sandman.de/products/steppbe...</td>\n",
       "      <td>Ganzjahresbettdecke</td>\n",
       "      <td>23.9</td>\n",
       "      <td>220x240</td>\n",
       "      <td>39980487803012</td>\n",
       "      <td>4063585934821</td>\n",
       "      <td>https://mister-sandman.de/cdn/shop/products/St...</td>\n",
       "      <td>https://mister-sandman.de/cdn/shop/products/de...</td>\n",
       "    </tr>\n",
       "    <tr>\n",
       "      <th>6</th>\n",
       "      <td>https://www.mister-sandman.de/products/steppbe...</td>\n",
       "      <td>Ganzjahresbettdecke</td>\n",
       "      <td>18.9</td>\n",
       "      <td>140x200</td>\n",
       "      <td>39980489244804</td>\n",
       "      <td>4063585934814</td>\n",
       "      <td>https://mister-sandman.de/cdn/shop/products/St...</td>\n",
       "      <td>https://mister-sandman.de/cdn/shop/products/de...</td>\n",
       "    </tr>\n",
       "    <tr>\n",
       "      <th>7</th>\n",
       "      <td>https://www.mister-sandman.de/products/steppbe...</td>\n",
       "      <td>Ganzjahresbettdecke</td>\n",
       "      <td>19.9</td>\n",
       "      <td>160x220</td>\n",
       "      <td>39980492161156</td>\n",
       "      <td>4063585934807</td>\n",
       "      <td>https://mister-sandman.de/cdn/shop/products/St...</td>\n",
       "      <td>https://mister-sandman.de/cdn/shop/products/de...</td>\n",
       "    </tr>\n",
       "    <tr>\n",
       "      <th>8</th>\n",
       "      <td>https://www.mister-sandman.de/products/steppbe...</td>\n",
       "      <td>Steppbett Mikrofaser Sommer 135x200</td>\n",
       "      <td>17.9</td>\n",
       "      <td>135x200</td>\n",
       "      <td>31271682277508</td>\n",
       "      <td>4063585966945</td>\n",
       "      <td>https://mister-sandman.de/cdn/shop/products/In...</td>\n",
       "      <td>https://mister-sandman.de/cdn/shop/products/02...</td>\n",
       "    </tr>\n",
       "    <tr>\n",
       "      <th>9</th>\n",
       "      <td>https://www.mister-sandman.de/products/steppbe...</td>\n",
       "      <td>Steppbett Mikrofaser Sommer 155x220</td>\n",
       "      <td>18.9</td>\n",
       "      <td>155x220</td>\n",
       "      <td>31271688536196</td>\n",
       "      <td>4063585886083</td>\n",
       "      <td>https://mister-sandman.de/cdn/shop/products/01...</td>\n",
       "      <td>https://mister-sandman.de/cdn/shop/products/02...</td>\n",
       "    </tr>\n",
       "  </tbody>\n",
       "</table>\n",
       "</div>"
      ],
      "text/plain": [
       "                                                Link  \\\n",
       "0  https://www.mister-sandman.de/products/babymat...   \n",
       "1  https://www.mister-sandman.de/products/steppbe...   \n",
       "2  https://www.mister-sandman.de/products/steppbe...   \n",
       "3  https://www.mister-sandman.de/products/steppbe...   \n",
       "4  https://www.mister-sandman.de/products/steppbe...   \n",
       "5  https://www.mister-sandman.de/products/steppbe...   \n",
       "6  https://www.mister-sandman.de/products/steppbe...   \n",
       "7  https://www.mister-sandman.de/products/steppbe...   \n",
       "8  https://www.mister-sandman.de/products/steppbe...   \n",
       "9  https://www.mister-sandman.de/products/steppbe...   \n",
       "\n",
       "                             Prod_name  Price     Size    Variation_id  \\\n",
       "0                         Babymatratze   29.9   60x120  23030724231216   \n",
       "1                  Ganzjahresbettdecke   18.9  135x200  30732042895492   \n",
       "2                  Ganzjahresbettdecke   19.9  155x220  30732042961028   \n",
       "3                  Ganzjahresbettdecke   21.9  200x200  30732042928260   \n",
       "4                  Ganzjahresbettdecke   22.9  200x220  30732042993796   \n",
       "5                  Ganzjahresbettdecke   23.9  220x240  39980487803012   \n",
       "6                  Ganzjahresbettdecke   18.9  140x200  39980489244804   \n",
       "7                  Ganzjahresbettdecke   19.9  160x220  39980492161156   \n",
       "8  Steppbett Mikrofaser Sommer 135x200   17.9  135x200  31271682277508   \n",
       "9  Steppbett Mikrofaser Sommer 155x220   18.9  155x220  31271688536196   \n",
       "\n",
       "         Barcode                                           Img1_url  \\\n",
       "0  4063585872390  https://mister-sandman.de/cdn/shop/products/ba...   \n",
       "1  4063585977477  https://mister-sandman.de/cdn/shop/products/St...   \n",
       "2  4063585977453  https://mister-sandman.de/cdn/shop/products/St...   \n",
       "3  4063585977460  https://mister-sandman.de/cdn/shop/products/St...   \n",
       "4  4063585977446  https://mister-sandman.de/cdn/shop/products/St...   \n",
       "5  4063585934821  https://mister-sandman.de/cdn/shop/products/St...   \n",
       "6  4063585934814  https://mister-sandman.de/cdn/shop/products/St...   \n",
       "7  4063585934807  https://mister-sandman.de/cdn/shop/products/St...   \n",
       "8  4063585966945  https://mister-sandman.de/cdn/shop/products/In...   \n",
       "9  4063585886083  https://mister-sandman.de/cdn/shop/products/01...   \n",
       "\n",
       "                                            Img2_url  \n",
       "0  https://mister-sandman.de/cdn/shop/products/Ed...  \n",
       "1  https://mister-sandman.de/cdn/shop/products/de...  \n",
       "2  https://mister-sandman.de/cdn/shop/products/de...  \n",
       "3  https://mister-sandman.de/cdn/shop/products/de...  \n",
       "4  https://mister-sandman.de/cdn/shop/products/de...  \n",
       "5  https://mister-sandman.de/cdn/shop/products/de...  \n",
       "6  https://mister-sandman.de/cdn/shop/products/de...  \n",
       "7  https://mister-sandman.de/cdn/shop/products/de...  \n",
       "8  https://mister-sandman.de/cdn/shop/products/02...  \n",
       "9  https://mister-sandman.de/cdn/shop/products/02...  "
      ]
     },
     "execution_count": 23,
     "metadata": {},
     "output_type": "execute_result"
    }
   ],
   "source": [
    "pd.read_excel('Sample_ouput.xlsx')"
   ]
  },
  {
   "cell_type": "code",
   "execution_count": null,
   "id": "c50dbc31",
   "metadata": {},
   "outputs": [],
   "source": []
  }
 ],
 "metadata": {
  "kernelspec": {
   "display_name": "Python 3 (ipykernel)",
   "language": "python",
   "name": "python3"
  },
  "language_info": {
   "codemirror_mode": {
    "name": "ipython",
    "version": 3
   },
   "file_extension": ".py",
   "mimetype": "text/x-python",
   "name": "python",
   "nbconvert_exporter": "python",
   "pygments_lexer": "ipython3",
   "version": "3.11.7"
  }
 },
 "nbformat": 4,
 "nbformat_minor": 5
}
